{
 "cells": [
  {
   "cell_type": "code",
   "execution_count": 2,
   "metadata": {
    "tags": []
   },
   "outputs": [
    {
     "output_type": "display_data",
     "data": {
      "text/plain": "Canvas(toolbar=Toolbar(toolitems=[('Home', 'Reset original view', 'home', 'home'), ('Back', 'Back to previous …",
      "application/vnd.jupyter.widget-view+json": {
       "version_major": 2,
       "version_minor": 0,
       "model_id": "e8474ba3c28a46dcbff4b287f9a20959"
      }
     },
     "metadata": {}
    },
    {
     "output_type": "stream",
     "name": "stderr",
     "text": "No handles with labels found to put in legend.\n"
    }
   ],
   "source": [
    "%matplotlib widget\n",
    "\n",
    "import pandas as pd\n",
    "import matplotlib.pyplot as plt\n",
    "from scipy.interpolate import griddata\n",
    "from mpl_toolkits.mplot3d import Axes3D\n",
    "# import random\n",
    "import numpy as np\n",
    "\n",
    "plt.style.use('fivethirtyeight')\n",
    "\n",
    "fig = plt.figure(figsize=(5, 5))\n",
    "ax = fig.add_subplot(projection='3d')\n",
    "\n",
    "df = pd.read_csv('PTS-0000.csv')\n",
    "\n",
    "def gera_cor():\n",
    "    return '#'+''.join(\"%06x\" % random.randint(0, 0xFFFFFF))\n",
    "\n",
    "df.dropna(inplace=True)\n",
    "df.sort_values(by='nome', ascending=True, inplace=True)\n",
    "\n",
    "df['azimute'] = pd.to_numeric(df['azimute'] - 1500)\n",
    "df['angulo'] = pd.to_numeric(df['angulo'] - 500)\n",
    "df['distancia'] = pd.to_numeric(df['distancia'])\n",
    "\n",
    "x = np.array(df['azimute'].values.tolist())\n",
    "y = np.array(df['angulo'].values.tolist())\n",
    "z = np.array(df['distancia'].values.tolist())\n",
    "\n",
    "xi = np.linspace(min(x), max(x))\n",
    "yi = np.linspace(min(y), max(y))\n",
    "X, Y = np.meshgrid(xi, yi)\n",
    "Z = griddata((x, y), z, (xi[None,:], yi[:,None]), method='nearest', rescale=True)\n",
    "\n",
    "# ax.contourf(X, Y, Z, 10, cmap=plt.cm.bone, origin='lower')\n",
    "ax.scatter(x, y, z, s=100,  marker='.', c='k')\n",
    "ax.plot_surface(X, Y, Z, rstride=1, cstride=1, linewidth=1, cmap=plt.cm.jet, antialiased=True, alpha=0.3)\n",
    "\n",
    "\n",
    "ax.grid(False)\n",
    "ax.legend()\n",
    "plt.show()\n"
   ]
  },
  {
   "cell_type": "code",
   "execution_count": null,
   "metadata": {},
   "outputs": [],
   "source": []
  }
 ],
 "metadata": {
  "language_info": {
   "name": "python",
   "codemirror_mode": {
    "name": "ipython",
    "version": 3
   },
   "version": "3.8.2-final"
  },
  "orig_nbformat": 2,
  "file_extension": ".py",
  "mimetype": "text/x-python",
  "name": "python",
  "npconvert_exporter": "python",
  "pygments_lexer": "ipython3",
  "version": 3,
  "kernelspec": {
   "name": "python3",
   "display_name": "Python 3"
  }
 },
 "nbformat": 4,
 "nbformat_minor": 2
}